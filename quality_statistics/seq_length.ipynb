{
 "cells": [
  {
   "cell_type": "code",
   "execution_count": 1,
   "metadata": {},
   "outputs": [
    {
     "name": "stdout",
     "output_type": "stream",
     "text": [
      "Original Sequences: 67744790, Filtered: 0, Kept: 67744790\n"
     ]
    },
    {
     "data": {
      "image/png": "[encoded data removed]",
      "text/plain": [
       "<Figure size 640x480 with 1 Axes>"
      ]
     },
     "metadata": {},
     "output_type": "display_data"
    }
   ],
   "source": [
    "import os\n",
    "import matplotlib.pyplot as plt\n",
    "import numpy as np\n",
    "\n",
    "def filter_fastq(file_path, length_threshold):\n",
    "    lengths = []\n",
    "    total_seqs, filtered_seqs, kept_seqs = 0, 0, 0\n",
    "    with open(file_path, 'r') as infile:\n",
    "        while True:\n",
    "            identifier = infile.readline()\n",
    "            if not identifier:\n",
    "                break\n",
    "            sequence = infile.readline()\n",
    "            plus_line = infile.readline()\n",
    "            quality_score = infile.readline()\n",
    "            total_seqs += 1\n",
    "            if len(sequence.strip()) >= length_threshold :\n",
    "                lengths.append(len(sequence.strip()))\n",
    "                kept_seqs += 1\n",
    "            else:\n",
    "                filtered_seqs += 1\n",
    "    return lengths, total_seqs, filtered_seqs, kept_seqs\n",
    "\n",
    "def process_path(path, length_threshold):\n",
    "    all_lengths = []\n",
    "    total_seqs, total_filtered, total_kept = 0, 0, 0\n",
    "    if os.path.isfile(path):\n",
    "        lengths, seqs, filtered, kept = filter_fastq(path, length_threshold)\n",
    "        all_lengths.extend(lengths)\n",
    "        total_seqs += seqs\n",
    "        total_filtered += filtered\n",
    "        total_kept += kept\n",
    "    elif os.path.isdir(path):\n",
    "        for filename in os.listdir(path):\n",
    "            if filename.endswith('.fastq'):\n",
    "                file_path = os.path.join(path, filename)\n",
    "                lengths, seqs, filtered, kept = filter_fastq(file_path, length_threshold)\n",
    "                all_lengths.extend(lengths)\n",
    "                total_seqs += seqs\n",
    "                total_filtered += filtered\n",
    "                total_kept += kept\n",
    "    print(f\"Original Sequences: {total_seqs}, Filtered: {total_filtered}, Kept: {total_kept}\")\n",
    "    return all_lengths\n",
    "\n",
    "def plot_length_distribution(lengths):\n",
    "    \"\"\"绘制长度分布图\"\"\"\n",
    "\n",
    "    hist, bins = np.histogram(lengths, bins=np.arange(0, 6010, 10))\n",
    "    plt.bar(bins[:-1], hist, width=10)\n",
    "    plt.title(\"Sequence Length Distribution\")\n",
    "    plt.xlabel(\"Length\")\n",
    "    plt.ylabel(\"Frequency\")\n",
    "    plt.xlim(0, 6000)\n",
    "    plt.show()\n",
    "\n",
    "def main():\n",
    "    path = \"/dm_data/zhaixp/20241217-dyn-soil/bbmap_input.fastq\"\n",
    "    length_threshold = 0  # 设置长度阈值\n",
    "    lengths = process_path(path, length_threshold)\n",
    "    plot_length_distribution(lengths)\n",
    "if __name__ == \"__main__\":\n",
    "    main()\n"
   ]
  },
  {
   "cell_type": "code",
   "execution_count": 2,
   "metadata": {},
   "outputs": [
    {
     "name": "stdout",
     "output_type": "stream",
     "text": [
      "Original Sequences: 88530488, Filtered: 3191, Kept: 88527297\n"
     ]
    },
    {
     "data": {
      "image/png": "[encoded data removed]",
      "text/plain": [
       "<Figure size 432x288 with 1 Axes>"
      ]
     },
     "metadata": {
      "needs_background": "light"
     },
     "output_type": "display_data"
    }
   ],
   "source": [
    "import os\n",
    "import matplotlib.pyplot as plt\n",
    "from collections import Counter\n",
    "import numpy as np\n",
    "\n",
    "def filter_fastq(file_path, length_threshold):\n",
    "    \"\"\"过滤FASTQ文件，删除长度小于阈值的序列，并返回序列长度列表和统计信息\"\"\"\n",
    "    lengths = []\n",
    "    total_seqs, filtered_seqs, kept_seqs = 0, 0, 0\n",
    "    output_path = file_path.replace('.fastq', '_filtered.fastq')\n",
    "    with open(file_path, 'r') as infile, open(output_path, 'w') as outfile:\n",
    "        while True:\n",
    "            identifier = infile.readline()\n",
    "            if not identifier:\n",
    "                break\n",
    "            sequence = infile.readline()\n",
    "            plus_line = infile.readline()\n",
    "            quality_score = infile.readline()\n",
    "            total_seqs += 1\n",
    "            if len(sequence.strip()) >= length_threshold and len(sequence.strip())<= 30000:\n",
    "                outfile.write(identifier + sequence + plus_line + quality_score)\n",
    "                lengths.append(len(sequence.strip()))\n",
    "                kept_seqs += 1\n",
    "            else:\n",
    "                lengths.append(len(sequence.strip()))\n",
    "                filtered_seqs += 1\n",
    "    return lengths, total_seqs, filtered_seqs, kept_seqs\n",
    "\n",
    "def process_path(path, length_threshold):\n",
    "    \"\"\"处理单个文件或文件夹中的所有FASTQ文件，应用长度阈值\"\"\"\n",
    "    all_lengths = []\n",
    "    total_seqs, total_filtered, total_kept = 0, 0, 0\n",
    "    if os.path.isfile(path):\n",
    "        lengths, seqs, filtered, kept = filter_fastq(path, length_threshold)\n",
    "        all_lengths.extend(lengths)\n",
    "        total_seqs += seqs\n",
    "        total_filtered += filtered\n",
    "        total_kept += kept\n",
    "    elif os.path.isdir(path):\n",
    "        for filename in os.listdir(path):\n",
    "            if filename.endswith('.fastq'):\n",
    "                file_path = os.path.join(path, filename)\n",
    "                lengths, seqs, filtered, kept = filter_fastq(file_path, length_threshold)\n",
    "                all_lengths.extend(lengths)\n",
    "                total_seqs += seqs\n",
    "                total_filtered += filtered\n",
    "                total_kept += kept\n",
    "    print(f\"Original Sequences: {total_seqs}, Filtered: {total_filtered}, Kept: {total_kept}\")\n",
    "    return all_lengths\n",
    "\n",
    "def plot_length_distribution(lengths):\n",
    "    \"\"\"绘制长度分布图\"\"\"\n",
    "    plt.hist(lengths, bins=np.arange(0, 3010, 10))\n",
    "    plt.title(\"Sequence Length Distribution\")\n",
    "    plt.xlabel(\"Length\")\n",
    "    plt.ylabel(\"Frequency\")\n",
    "    plt.xlim(0, 3000)\n",
    "    plt.show()\n",
    "\n",
    "def main():\n",
    "    path = \"/home/lisy01/zhaixuanpei/20240813/pool5.fastq\"\n",
    "    length_threshold = 20  # 设置长度阈值\n",
    "    lengths = process_path(path, length_threshold)\n",
    "    plot_length_distribution(lengths)\n",
    "\n",
    "    # 新增代码：计算长度计数并写入文件\n",
    "    #length_counts = Counter(lengths)\n",
    "    #with open(\"/home/lisy01/zhaixuanpei/20240813/barcode01/length_counts.txt\", \"w\") as outfile:\n",
    "    #    for length, count in sorted(length_counts.items()):\n",
    "    #        outfile.write(f\"{length} {count}\\n\")\n",
    "\n",
    "if __name__ == \"__main__\":\n",
    "    main()\n"
   ]
  },
  {
   "cell_type": "code",
   "execution_count": 2,
   "metadata": {},
   "outputs": [],
   "source": [
    "import os\n",
    "from Bio import SeqIO\n",
    "\n",
    "def calculate_n50(lengths):\n",
    "    lengths.sort(reverse=True)\n",
    "    cumulative_sum = 0\n",
    "    total_length = sum(lengths)\n",
    "    for length in lengths:\n",
    "        cumulative_sum += length\n",
    "        if cumulative_sum >= total_length / 2:\n",
    "            return length\n",
    "\n",
    "def process_fasta_file(file_path):\n",
    "    lengths = [len(record.seq) for record in SeqIO.parse(file_path, \"fasta\")]\n",
    "    contig_count = len(lengths)\n",
    "    average_length = sum(lengths) / contig_count if contig_count else 0\n",
    "    n50 = calculate_n50(lengths) if contig_count else 0\n",
    "    return contig_count, average_length, n50\n",
    "\n",
    "def main(input_dir, output_file):\n",
    "    with open(output_file, 'w') as out_f:\n",
    "        out_f.write(\"Filename\\tContig_Count\\tAverage_Length\\tN50\\n\")\n",
    "        for filename in os.listdir(input_dir):\n",
    "            if filename.endswith(\".fasta\") or filename.endswith(\".fa\"):\n",
    "                file_path = os.path.join(input_dir, filename)\n",
    "                contig_count, avg_length, n50 = process_fasta_file(file_path)\n",
    "                out_f.write(f\"{filename}\\t{contig_count}\\t{avg_length:.2f}\\t{n50}\\n\")\n",
    "\n",
    "if __name__ == \"__main__\":\n",
    "    input_directory = \"/home/lisy01/liuyifan/assembly/humanmeta/five_bac1/racon3_fasta\"  # Replace with your directory path\n",
    "    output_filename = \"//home/lisy01/zhaixuanpei/20240813/barcode01-pool5/coverage_length.txt\"\n",
    "    main(input_directory, output_filename)\n"
   ]
  }
 ],
 "metadata": {
  "kernelspec": {
   "display_name": "base",
   "language": "python",
   "name": "python3"
  },
  "language_info": {
   "codemirror_mode": {
    "name": "ipython",
    "version": 3
   },
   "file_extension": ".py",
   "mimetype": "text/x-python",
   "name": "python",
   "nbconvert_exporter": "python",
   "pygments_lexer": "ipython3",
   "version": "3.12.3"
  }
 },
 "nbformat": 4,
 "nbformat_minor": 2
}
